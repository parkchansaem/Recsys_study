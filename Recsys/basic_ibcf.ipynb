{
 "cells": [
  {
   "cell_type": "code",
   "execution_count": 1,
   "metadata": {},
   "outputs": [],
   "source": [
    "\n",
    "import numpy as np\n",
    "import pandas as pd"
   ]
  },
  {
   "cell_type": "code",
   "execution_count": 2,
   "metadata": {},
   "outputs": [],
   "source": [
    "u_cols = ['user_id', 'age', 'sex', 'occupation', 'zip_code']\n",
    "users = pd.read_csv('../dataset/u.user', sep='|', names=u_cols, encoding='latin-1')\n",
    "i_cols = ['movie_id', 'title', 'release date', 'video release date', 'IMDB URL', 'unknown', \n",
    "          'Action', 'Adventure', 'Animation', 'Children\\'s', 'Comedy', 'Crime', 'Documentary', \n",
    "          'Drama', 'Fantasy', 'Film-Noir', 'Horror', 'Musical', 'Mystery', 'Romance', 'Sci-Fi', \n",
    "          'Thriller', 'War', 'Western']\n",
    "movies = pd.read_csv('../dataset/u.item', sep='|', names=i_cols, encoding='latin-1')\n",
    "r_cols = ['user_id', 'movie_id', 'rating', 'timestamp']\n",
    "ratings = pd.read_csv('../dataset/u.data', sep='\\t', names=r_cols, encoding='latin-1')"
   ]
  },
  {
   "cell_type": "code",
   "execution_count": 5,
   "metadata": {},
   "outputs": [],
   "source": [
    "#timestamp 제거\n",
    "ratings = ratings.drop('timestamp',axis=1)"
   ]
  },
  {
   "cell_type": "code",
   "execution_count": 7,
   "metadata": {},
   "outputs": [],
   "source": [
    "#movie ID와 title 빼고 다른 데이터 제거\n",
    "movies = movies[['movie_id','title']]"
   ]
  },
  {
   "cell_type": "code",
   "execution_count": 10,
   "metadata": {},
   "outputs": [],
   "source": [
    "#train, test 데이터 분리\n",
    "from sklearn.model_selection import train_test_split\n",
    "x =ratings.copy()\n",
    "y= ratings['user_id']\n",
    "x_train,x_test,y_train,y_test = train_test_split(x,y,test_size=0.2,stratify=y)"
   ]
  },
  {
   "cell_type": "code",
   "execution_count": 11,
   "metadata": {},
   "outputs": [],
   "source": [
    "#정화도(RMSE)를 계산하는 함수\n",
    "def RMSE(y_true,y_pred):\n",
    "    return np.sqrt(np.mean((np.array(y_true)-np.array(y_pred))**2))"
   ]
  },
  {
   "cell_type": "code",
   "execution_count": 12,
   "metadata": {},
   "outputs": [],
   "source": [
    "def score(model):\n",
    "    id_pairs = zip(x_test['user_id'],x_test['movie_id'])\n",
    "    y_pred = np.array([model(user,movie)for (user,movie)in id_pairs])\n",
    "    y_true = np.array(x_test['rating'])\n",
    "    return RMSE(y_true,y_pred)\n"
   ]
  },
  {
   "cell_type": "code",
   "execution_count": 16,
   "metadata": {},
   "outputs": [],
   "source": [
    "# train 데이터로 full matrix구하기\n",
    "rating_matrix = x_train.pivot(index='user_id',columns='movie_id',values='rating')"
   ]
  },
  {
   "cell_type": "code",
   "execution_count": 17,
   "metadata": {},
   "outputs": [],
   "source": [
    "# train set의 모든 가능한 아이템 pair의 cosine similarites 계산\n",
    "from sklearn.metrics.pairwise import cosine_similarity\n",
    "rating_matrix_t = np.transpose(rating_matrix)\n",
    "matrix_dummy = rating_matrix_t.copy().fillna(0)\n",
    "item_similarity = cosine_similarity(matrix_dummy,matrix_dummy)\n",
    "item_similarity = pd.DataFrame(item_similarity,index = rating_matrix_t.index,columns=rating_matrix_t.index)"
   ]
  },
  {
   "cell_type": "code",
   "execution_count": 32,
   "metadata": {},
   "outputs": [],
   "source": [
    "# 주어진 영화의 (movie_id) 가중평균 rating을 계산하는 함수,\n",
    "# 가중치는 주어진 아이템과 다른 아이템 간의 유사도(item__similarity)\n",
    "def CF_IBCF(user_id, movie_id):\n",
    "    #현재 영화가 trian set에 있는지 확인\n",
    "    if movie_id in item_similarity:\n",
    "        #현재 영화와 다른 영화의 similarity 값 가져오기\n",
    "        sim_scores = item_similarity[movie_id]\n",
    "        # 현 사용자의 모든 rating값 가져오기\n",
    "        user_rating = rating_matrix_t[user_id]\n",
    "        #사용자가 평가하지 않은 영화 index 가져오기\n",
    "        non_rating_idx = user_rating[user_rating.isnull()].index\n",
    "        # 사용자가 평가하지 않은 영화 제거\n",
    "        user_rating = user_rating.dropna()\n",
    "        # 사용자가 평가하지 않은 영화의 similarity 값 제거\n",
    "        sim_scores = sim_scores.drop(non_rating_idx)\n",
    "        # 현 영화에 대한 예상 rating 계산, 가중치는 현 영화와 사용자가 평가한 영화의 유사도\n",
    "        mean_rating = np.dot(sim_scores, user_rating)/sim_scores.sum()\n",
    "    else:\n",
    "        mean_rating = 3.0\n",
    "    return mean_rating"
   ]
  },
  {
   "cell_type": "code",
   "execution_count": 33,
   "metadata": {},
   "outputs": [
    {
     "data": {
      "text/plain": [
       "1.016100198637031"
      ]
     },
     "execution_count": 33,
     "metadata": {},
     "output_type": "execute_result"
    }
   ],
   "source": [
    "score(CF_IBCF)"
   ]
  },
  {
   "cell_type": "code",
   "execution_count": null,
   "metadata": {},
   "outputs": [],
   "source": []
  }
 ],
 "metadata": {
  "kernelspec": {
   "display_name": "conda",
   "language": "python",
   "name": "conda"
  },
  "language_info": {
   "codemirror_mode": {
    "name": "ipython",
    "version": 3
   },
   "file_extension": ".py",
   "mimetype": "text/x-python",
   "name": "python",
   "nbconvert_exporter": "python",
   "pygments_lexer": "ipython3",
   "version": "3.9.10"
  },
  "orig_nbformat": 4
 },
 "nbformat": 4,
 "nbformat_minor": 2
}
